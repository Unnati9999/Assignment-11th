{
 "cells": [
  {
   "cell_type": "markdown",
   "id": "a36453e7-5f43-4915-ba41-86e7e30ebe12",
   "metadata": {},
   "source": [
    "Q1 . What is multithreading in python? Why is it used? Name the module used to handle threads in python"
   ]
  },
  {
   "cell_type": "markdown",
   "id": "5152f527-08bd-4966-8fa3-385472439027",
   "metadata": {},
   "source": [
    "The threading module is a high-level implementation of multithreading used to deploy an application in Python.\n",
    "To use multithreading, we need to import the threading module in Python Program.\n",
    "A start() method is used to initiate the activity of a thread."
   ]
  },
  {
   "cell_type": "code",
   "execution_count": null,
   "id": "d51b0c16-cb3f-45c9-bbe4-7ecdf2917fa8",
   "metadata": {},
   "outputs": [],
   "source": []
  },
  {
   "cell_type": "markdown",
   "id": "f285def2-300e-43e2-ae48-3d5a460c4800",
   "metadata": {},
   "source": [
    "Q2. Why threading module used? Write the use of the following functions\n",
    "1]activeCount\n",
    "2]currentThread\n",
    "3]enumerate)"
   ]
  },
  {
   "cell_type": "markdown",
   "id": "b78c71d1-c8ba-4c18-a88c-6a42ae3d4797",
   "metadata": {},
   "source": [
    " Threading module is used for creating, controlling and managing threads in python."
   ]
  },
  {
   "cell_type": "markdown",
   "id": "90885dd0-9137-4346-b399-417a53626466",
   "metadata": {},
   "source": [
    "Active Count - It is used to return the number of Thread objects that are active at any instant."
   ]
  },
  {
   "cell_type": "markdown",
   "id": "1416a3e1-83db-4af2-84ae-fc21e03e9ccf",
   "metadata": {},
   "source": [
    "Current Thread - It is used to return the current Thread object, which corresponds to the caller's thread of control."
   ]
  },
  {
   "cell_type": "markdown",
   "id": "adf0fbc1-6a55-437d-b9e9-fc90fabf154b",
   "metadata": {},
   "source": [
    "Emumerate - It returns a tuple with the counter and value"
   ]
  },
  {
   "cell_type": "code",
   "execution_count": null,
   "id": "7164869e-0005-49da-ac2d-05ca9dd4e252",
   "metadata": {},
   "outputs": [],
   "source": []
  },
  {
   "cell_type": "markdown",
   "id": "b69ad280-32f1-4a03-827b-533acb31fae0",
   "metadata": {},
   "source": [
    "Q3.Explain the following functions\n",
    "1] Run\n",
    "2] start\n",
    "3] join\n",
    "4] isAlive)"
   ]
  },
  {
   "cell_type": "markdown",
   "id": "eb569b1c-13e1-4b4b-9221-e4c16ccf5e46",
   "metadata": {},
   "source": [
    "run() − The run() method is the entry point for a thread.\n",
    "\n",
    "start() − The start() method starts a thread by calling the run method.\n",
    "\n",
    "join([time]) − The join() waits for threads to terminate.\n",
    "\n",
    "isAlive() − The isAlive() method checks whether a thread is still executing."
   ]
  },
  {
   "cell_type": "code",
   "execution_count": null,
   "id": "dfa77fbd-4c96-4fb3-b94e-cfa094fdb24b",
   "metadata": {},
   "outputs": [],
   "source": []
  },
  {
   "cell_type": "markdown",
   "id": "63e0d5c4-252f-4413-86c6-c8e5ac5482fc",
   "metadata": {},
   "source": [
    "Q4. Write a python program to create two threads. Thread one must print the list of squares and thread\n",
    "two must print the list of cubes"
   ]
  },
  {
   "cell_type": "code",
   "execution_count": null,
   "id": "ae266231-3f21-495c-99fb-f764001ab309",
   "metadata": {},
   "outputs": [],
   "source": []
  },
  {
   "cell_type": "markdown",
   "id": "6292b857-be3a-41f7-9968-2283fd2aecb5",
   "metadata": {},
   "source": [
    "Q5. State advantages and disadvantages of multithreading"
   ]
  },
  {
   "cell_type": "markdown",
   "id": "7218602c-938e-4029-b77c-2d7ffcd6f82f",
   "metadata": {},
   "source": [
    "Advantages                                                                                  \n",
    "-Minimized system resource usage                                              \n",
    "-Threads require less overhead to create, maintain, and manage than a traditional process\n"
   ]
  },
  {
   "cell_type": "markdown",
   "id": "e6b05318-a1d5-4aa0-9a8f-f38616263007",
   "metadata": {},
   "source": [
    "Disadvantage                                                            \n",
    "-Difficulty of writing code                                     \n",
    "-Difficulty of debugging                                 \n",
    "-Difficulty of porting existing  code\n"
   ]
  },
  {
   "cell_type": "code",
   "execution_count": null,
   "id": "dbea8d7b-b8a8-4637-ba1b-441cb9a9d154",
   "metadata": {},
   "outputs": [],
   "source": []
  },
  {
   "cell_type": "markdown",
   "id": "4aa327f9-a4dc-4318-ae76-2b358cf39473",
   "metadata": {},
   "source": [
    "Q6. Explain deadlocks and race conditions."
   ]
  },
  {
   "cell_type": "markdown",
   "id": "a0719e13-f6ff-471d-a6d6-073f2c7645d7",
   "metadata": {},
   "source": [
    "A race condition occurs when two threads use the same variable at a given time.                    \n",
    "Deadlock exists when two threads seek one lock simultaneously"
   ]
  },
  {
   "cell_type": "code",
   "execution_count": null,
   "id": "28f3455b-4615-4fb2-baaa-b5aa83cd2cc4",
   "metadata": {},
   "outputs": [],
   "source": []
  }
 ],
 "metadata": {
  "kernelspec": {
   "display_name": "Python 3 (ipykernel)",
   "language": "python",
   "name": "python3"
  },
  "language_info": {
   "codemirror_mode": {
    "name": "ipython",
    "version": 3
   },
   "file_extension": ".py",
   "mimetype": "text/x-python",
   "name": "python",
   "nbconvert_exporter": "python",
   "pygments_lexer": "ipython3",
   "version": "3.10.8"
  }
 },
 "nbformat": 4,
 "nbformat_minor": 5
}
